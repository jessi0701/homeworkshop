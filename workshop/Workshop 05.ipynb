{
 "cells": [
  {
   "cell_type": "code",
   "execution_count": 33,
   "metadata": {},
   "outputs": [
    {
     "name": "stdout",
     "output_type": "stream",
     "text": [
      "True\n"
     ]
    }
   ],
   "source": [
    "def word(a):\n",
    "    flag = True\n",
    "    b=len(a)\n",
    "    for i in range(0,b//2):\n",
    "        if a[i]==a[b-i-1]:\n",
    "            flag =True\n",
    "        else:\n",
    "            flag = False\n",
    "    return flag        \n",
    "            \n",
    "        \n",
    "print(word(\"12321\"))\n",
    "    \n",
    "        \n",
    "        "
   ]
  },
  {
   "cell_type": "code",
   "execution_count": 38,
   "metadata": {},
   "outputs": [
    {
     "name": "stdout",
     "output_type": "stream",
     "text": [
      "0 3\n",
      "1 5\n",
      "2 8\n",
      "3 1\n",
      "4 8\n"
     ]
    }
   ],
   "source": [
    "my=[3,5,8,1,8]\n",
    "for i,j in enumerate(my):\n",
    "    print(i,j)"
   ]
  }
 ],
 "metadata": {
  "kernelspec": {
   "display_name": "Python 3",
   "language": "python",
   "name": "python3"
  },
  "language_info": {
   "codemirror_mode": {
    "name": "ipython",
    "version": 3
   },
   "file_extension": ".py",
   "mimetype": "text/x-python",
   "name": "python",
   "nbconvert_exporter": "python",
   "pygments_lexer": "ipython3",
   "version": "3.6.7"
  }
 },
 "nbformat": 4,
 "nbformat_minor": 2
}
