{
 "cells": [
  {
   "cell_type": "code",
   "execution_count": 16,
   "metadata": {},
   "outputs": [
    {
     "data": {
      "text/plain": [
       "10.535653591156006"
      ]
     },
     "execution_count": 16,
     "metadata": {},
     "output_type": "execute_result"
    }
   ],
   "source": [
    "def sol(a):\n",
    "    b=1    \n",
    "    low=0\n",
    "    high=0    \n",
    "    while True:\n",
    "        if b**2<=a and a<(b+1)**2:            \n",
    "            break\n",
    "        else:\n",
    "            b+=1\n",
    "    if b*b==a:\n",
    "        return b\n",
    "    low=b\n",
    "    high=b+1\n",
    "    center = (high+low)/2\n",
    "    while high-low>0.000001:        \n",
    "        if center**2 < a:\n",
    "            low=center\n",
    "        else:\n",
    "            high=center\n",
    "        center = (high+low)/2 \n",
    "    return center\n",
    "sol(111)\n",
    "        \n",
    "        \n",
    "        \n",
    "\n",
    "\n",
    "\n",
    "        \n",
    "        \n",
    "        "
   ]
  }
 ],
 "metadata": {
  "kernelspec": {
   "display_name": "Python 3",
   "language": "python",
   "name": "python3"
  },
  "language_info": {
   "codemirror_mode": {
    "name": "ipython",
    "version": 3
   },
   "file_extension": ".py",
   "mimetype": "text/x-python",
   "name": "python",
   "nbconvert_exporter": "python",
   "pygments_lexer": "ipython3",
   "version": "3.6.7"
  }
 },
 "nbformat": 4,
 "nbformat_minor": 2
}
